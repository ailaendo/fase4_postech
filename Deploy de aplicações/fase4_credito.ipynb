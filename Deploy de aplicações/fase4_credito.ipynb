{
 "cells": [
  {
   "cell_type": "markdown",
   "metadata": {},
   "source": [
    "# Deploy de aplicações"
   ]
  },
  {
   "cell_type": "markdown",
   "metadata": {},
   "source": [
    "## Aula 1 - Tratando os dados"
   ]
  },
  {
   "cell_type": "code",
   "execution_count": 39,
   "metadata": {},
   "outputs": [],
   "source": [
    "import pandas as pd"
   ]
  },
  {
   "cell_type": "code",
   "execution_count": 40,
   "metadata": {},
   "outputs": [],
   "source": [
    "cadastrados = pd.read_csv(\"https://raw.githubusercontent.com/FIAP/Pos_Tech_DTAT/dd201a034223a16732c6f639b40600b26bd3129c/dados/clientes_cadastrados.csv\")"
   ]
  },
  {
   "cell_type": "code",
   "execution_count": 41,
   "metadata": {},
   "outputs": [
    {
     "data": {
      "text/html": [
       "<div>\n",
       "<style scoped>\n",
       "    .dataframe tbody tr th:only-of-type {\n",
       "        vertical-align: middle;\n",
       "    }\n",
       "\n",
       "    .dataframe tbody tr th {\n",
       "        vertical-align: top;\n",
       "    }\n",
       "\n",
       "    .dataframe thead th {\n",
       "        text-align: right;\n",
       "    }\n",
       "</style>\n",
       "<table border=\"1\" class=\"dataframe\">\n",
       "  <thead>\n",
       "    <tr style=\"text-align: right;\">\n",
       "      <th></th>\n",
       "      <th>ID_Cliente</th>\n",
       "      <th>Genero</th>\n",
       "      <th>Tem_carro</th>\n",
       "      <th>Tem_casa_propria</th>\n",
       "      <th>Qtd_filhos</th>\n",
       "      <th>Rendimento_anual</th>\n",
       "      <th>Categoria_de_renda</th>\n",
       "      <th>Grau_escolaridade</th>\n",
       "      <th>Estado_civil</th>\n",
       "      <th>Moradia</th>\n",
       "      <th>Idade</th>\n",
       "      <th>Anos_empregado</th>\n",
       "      <th>Tem_celular</th>\n",
       "      <th>Tem_telefone_trabalho</th>\n",
       "      <th>Tem_telefone_fixo</th>\n",
       "      <th>Tem_email</th>\n",
       "      <th>Ocupacao</th>\n",
       "      <th>Tamanho_familia</th>\n",
       "    </tr>\n",
       "  </thead>\n",
       "  <tbody>\n",
       "    <tr>\n",
       "      <th>0</th>\n",
       "      <td>5008804</td>\n",
       "      <td>M</td>\n",
       "      <td>Y</td>\n",
       "      <td>Y</td>\n",
       "      <td>0</td>\n",
       "      <td>427500.0</td>\n",
       "      <td>Empregado</td>\n",
       "      <td>Ensino superior</td>\n",
       "      <td>União-estável</td>\n",
       "      <td>Apartamento alugado</td>\n",
       "      <td>-12005</td>\n",
       "      <td>-4542</td>\n",
       "      <td>1</td>\n",
       "      <td>1</td>\n",
       "      <td>0</td>\n",
       "      <td>0</td>\n",
       "      <td>NaN</td>\n",
       "      <td>2.0</td>\n",
       "    </tr>\n",
       "    <tr>\n",
       "      <th>1</th>\n",
       "      <td>5008805</td>\n",
       "      <td>M</td>\n",
       "      <td>Y</td>\n",
       "      <td>Y</td>\n",
       "      <td>0</td>\n",
       "      <td>427500.0</td>\n",
       "      <td>Empregado</td>\n",
       "      <td>Ensino superior</td>\n",
       "      <td>União-estável</td>\n",
       "      <td>Apartamento alugado</td>\n",
       "      <td>-12005</td>\n",
       "      <td>-4542</td>\n",
       "      <td>1</td>\n",
       "      <td>1</td>\n",
       "      <td>0</td>\n",
       "      <td>0</td>\n",
       "      <td>NaN</td>\n",
       "      <td>2.0</td>\n",
       "    </tr>\n",
       "    <tr>\n",
       "      <th>2</th>\n",
       "      <td>5008806</td>\n",
       "      <td>M</td>\n",
       "      <td>Y</td>\n",
       "      <td>Y</td>\n",
       "      <td>0</td>\n",
       "      <td>112500.0</td>\n",
       "      <td>Empregado</td>\n",
       "      <td>Ensino médio</td>\n",
       "      <td>Casado</td>\n",
       "      <td>Casa/apartamento próprio</td>\n",
       "      <td>-21474</td>\n",
       "      <td>-1134</td>\n",
       "      <td>1</td>\n",
       "      <td>0</td>\n",
       "      <td>0</td>\n",
       "      <td>0</td>\n",
       "      <td>Segurança</td>\n",
       "      <td>2.0</td>\n",
       "    </tr>\n",
       "    <tr>\n",
       "      <th>3</th>\n",
       "      <td>5008808</td>\n",
       "      <td>F</td>\n",
       "      <td>N</td>\n",
       "      <td>Y</td>\n",
       "      <td>0</td>\n",
       "      <td>270000.0</td>\n",
       "      <td>Associado comercial</td>\n",
       "      <td>Ensino médio</td>\n",
       "      <td>Solteiro</td>\n",
       "      <td>Casa/apartamento próprio</td>\n",
       "      <td>-19110</td>\n",
       "      <td>-3051</td>\n",
       "      <td>1</td>\n",
       "      <td>0</td>\n",
       "      <td>1</td>\n",
       "      <td>1</td>\n",
       "      <td>Vendas</td>\n",
       "      <td>1.0</td>\n",
       "    </tr>\n",
       "    <tr>\n",
       "      <th>4</th>\n",
       "      <td>5008809</td>\n",
       "      <td>F</td>\n",
       "      <td>N</td>\n",
       "      <td>Y</td>\n",
       "      <td>0</td>\n",
       "      <td>270000.0</td>\n",
       "      <td>Associado comercial</td>\n",
       "      <td>Ensino médio</td>\n",
       "      <td>Solteiro</td>\n",
       "      <td>Casa/apartamento próprio</td>\n",
       "      <td>-19110</td>\n",
       "      <td>-3051</td>\n",
       "      <td>1</td>\n",
       "      <td>0</td>\n",
       "      <td>1</td>\n",
       "      <td>1</td>\n",
       "      <td>Vendas</td>\n",
       "      <td>1.0</td>\n",
       "    </tr>\n",
       "  </tbody>\n",
       "</table>\n",
       "</div>"
      ],
      "text/plain": [
       "   ID_Cliente Genero Tem_carro Tem_casa_propria  Qtd_filhos  Rendimento_anual  \\\n",
       "0     5008804      M         Y                Y           0          427500.0   \n",
       "1     5008805      M         Y                Y           0          427500.0   \n",
       "2     5008806      M         Y                Y           0          112500.0   \n",
       "3     5008808      F         N                Y           0          270000.0   \n",
       "4     5008809      F         N                Y           0          270000.0   \n",
       "\n",
       "    Categoria_de_renda Grau_escolaridade   Estado_civil  \\\n",
       "0            Empregado   Ensino superior  União-estável   \n",
       "1            Empregado   Ensino superior  União-estável   \n",
       "2            Empregado      Ensino médio         Casado   \n",
       "3  Associado comercial      Ensino médio       Solteiro   \n",
       "4  Associado comercial      Ensino médio       Solteiro   \n",
       "\n",
       "                    Moradia  Idade  Anos_empregado  Tem_celular  \\\n",
       "0       Apartamento alugado -12005           -4542            1   \n",
       "1       Apartamento alugado -12005           -4542            1   \n",
       "2  Casa/apartamento próprio -21474           -1134            1   \n",
       "3  Casa/apartamento próprio -19110           -3051            1   \n",
       "4  Casa/apartamento próprio -19110           -3051            1   \n",
       "\n",
       "   Tem_telefone_trabalho  Tem_telefone_fixo  Tem_email   Ocupacao  \\\n",
       "0                      1                  0          0        NaN   \n",
       "1                      1                  0          0        NaN   \n",
       "2                      0                  0          0  Segurança   \n",
       "3                      0                  1          1     Vendas   \n",
       "4                      0                  1          1     Vendas   \n",
       "\n",
       "   Tamanho_familia  \n",
       "0              2.0  \n",
       "1              2.0  \n",
       "2              2.0  \n",
       "3              1.0  \n",
       "4              1.0  "
      ]
     },
     "execution_count": 41,
     "metadata": {},
     "output_type": "execute_result"
    }
   ],
   "source": [
    "cadastrados.head()"
   ]
  },
  {
   "cell_type": "code",
   "execution_count": 42,
   "metadata": {},
   "outputs": [
    {
     "data": {
      "text/plain": [
       "(438557, 18)"
      ]
     },
     "execution_count": 42,
     "metadata": {},
     "output_type": "execute_result"
    }
   ],
   "source": [
    "cadastrados.shape #quantidade de linhas e colunas"
   ]
  },
  {
   "cell_type": "code",
   "execution_count": 43,
   "metadata": {},
   "outputs": [
    {
     "data": {
      "text/plain": [
       "ID_Cliente\n",
       "7137299    2\n",
       "7702238    2\n",
       "7282535    2\n",
       "7243768    2\n",
       "7050948    2\n",
       "          ..\n",
       "5690727    1\n",
       "6621262    1\n",
       "6621261    1\n",
       "6621260    1\n",
       "6842885    1\n",
       "Name: count, Length: 438510, dtype: int64"
      ]
     },
     "execution_count": 43,
     "metadata": {},
     "output_type": "execute_result"
    }
   ],
   "source": [
    "cadastrados[\"ID_Cliente\"].value_counts() #contando quantos id tem iguais, mostrando que tem dados duplicados"
   ]
  },
  {
   "cell_type": "code",
   "execution_count": 44,
   "metadata": {},
   "outputs": [],
   "source": [
    "id_repetidos = cadastrados[cadastrados[\"ID_Cliente\"].duplicated(keep=False)] #mostrando as informações que estão duplicadas"
   ]
  },
  {
   "cell_type": "code",
   "execution_count": 45,
   "metadata": {},
   "outputs": [],
   "source": [
    "df_cadastrados_limpo = cadastrados.drop(id_repetidos.index) #limpando os dupplicados"
   ]
  },
  {
   "cell_type": "code",
   "execution_count": 46,
   "metadata": {},
   "outputs": [
    {
     "data": {
      "text/plain": [
       "ID_Cliente\n",
       "5008804    1\n",
       "6147691    1\n",
       "6147689    1\n",
       "6147688    1\n",
       "6147685    1\n",
       "          ..\n",
       "6093492    1\n",
       "5690720    1\n",
       "6538938    1\n",
       "6538937    1\n",
       "6842885    1\n",
       "Name: count, Length: 438463, dtype: int64"
      ]
     },
     "execution_count": 46,
     "metadata": {},
     "output_type": "execute_result"
    }
   ],
   "source": [
    "df_cadastrados_limpo[\"ID_Cliente\"].value_counts()"
   ]
  },
  {
   "cell_type": "code",
   "execution_count": 47,
   "metadata": {},
   "outputs": [
    {
     "data": {
      "text/plain": [
       "ID_Cliente                    0\n",
       "Genero                        0\n",
       "Tem_carro                     0\n",
       "Tem_casa_propria              0\n",
       "Qtd_filhos                    0\n",
       "Rendimento_anual              0\n",
       "Categoria_de_renda            0\n",
       "Grau_escolaridade             0\n",
       "Estado_civil                  0\n",
       "Moradia                       0\n",
       "Idade                         0\n",
       "Anos_empregado                0\n",
       "Tem_celular                   0\n",
       "Tem_telefone_trabalho         0\n",
       "Tem_telefone_fixo             0\n",
       "Tem_email                     0\n",
       "Ocupacao                 134177\n",
       "Tamanho_familia               0\n",
       "dtype: int64"
      ]
     },
     "execution_count": 47,
     "metadata": {},
     "output_type": "execute_result"
    }
   ],
   "source": [
    "df_cadastrados_limpo.isnull().sum() #vendo se tem dados nulos e somando a quantidade em cada coluna"
   ]
  },
  {
   "cell_type": "code",
   "execution_count": 48,
   "metadata": {},
   "outputs": [
    {
     "data": {
      "text/plain": [
       "array([nan, 'Segurança', 'Vendas', 'Contabilidade', 'Construção Civil',\n",
       "       'Gerência', 'Motorista', 'Equipe principal', 'Alta tecnologia',\n",
       "       'Limpeza', 'Serviço privado', 'Cozinha', 'Baixa qualificação',\n",
       "       'Medicina', 'Secretariado', 'Garçom', 'RH', 'Corretor imobiliário',\n",
       "       'TI'], dtype=object)"
      ]
     },
     "execution_count": 48,
     "metadata": {},
     "output_type": "execute_result"
    }
   ],
   "source": [
    "df_cadastrados_limpo[\"Ocupacao\"].unique() #mostrando as informações na coluna escolhida"
   ]
  },
  {
   "cell_type": "code",
   "execution_count": null,
   "metadata": {},
   "outputs": [],
   "source": [
    "df_cadastrados_limpo.fillna({'Ocupacao': 'Outro'}, inplace=True) #colocando informações onde está nulo"
   ]
  },
  {
   "cell_type": "code",
   "execution_count": 52,
   "metadata": {},
   "outputs": [
    {
     "data": {
      "text/plain": [
       "ID_Cliente               0\n",
       "Genero                   0\n",
       "Tem_carro                0\n",
       "Tem_casa_propria         0\n",
       "Qtd_filhos               0\n",
       "Rendimento_anual         0\n",
       "Categoria_de_renda       0\n",
       "Grau_escolaridade        0\n",
       "Estado_civil             0\n",
       "Moradia                  0\n",
       "Idade                    0\n",
       "Anos_empregado           0\n",
       "Tem_celular              0\n",
       "Tem_telefone_trabalho    0\n",
       "Tem_telefone_fixo        0\n",
       "Tem_email                0\n",
       "Ocupacao                 0\n",
       "Tamanho_familia          0\n",
       "dtype: int64"
      ]
     },
     "execution_count": 52,
     "metadata": {},
     "output_type": "execute_result"
    }
   ],
   "source": [
    "df_cadastrados_limpo.isnull().sum() "
   ]
  },
  {
   "cell_type": "code",
   "execution_count": null,
   "metadata": {},
   "outputs": [
    {
     "data": {
      "text/plain": [
       "ID_Cliente               438463\n",
       "Genero                        2\n",
       "Tem_carro                     2\n",
       "Tem_casa_propria              2\n",
       "Qtd_filhos                   12\n",
       "Rendimento_anual            866\n",
       "Categoria_de_renda            5\n",
       "Grau_escolaridade             5\n",
       "Estado_civil                  5\n",
       "Moradia                       6\n",
       "Idade                     16379\n",
       "Anos_empregado             9406\n",
       "Tem_celular                   1\n",
       "Tem_telefone_trabalho         2\n",
       "Tem_telefone_fixo             2\n",
       "Tem_email                     2\n",
       "Ocupacao                     19\n",
       "Tamanho_familia              13\n",
       "dtype: int64"
      ]
     },
     "execution_count": 53,
     "metadata": {},
     "output_type": "execute_result"
    }
   ],
   "source": [
    "df_cadastrados_limpo.nunique() #número de valores em cada coluna"
   ]
  },
  {
   "cell_type": "code",
   "execution_count": 54,
   "metadata": {},
   "outputs": [],
   "source": [
    "df_cadastrados_limpo.drop(\"Genero\", axis=1, inplace=True) #excluindo a coluna, axis indica que é coluna"
   ]
  },
  {
   "cell_type": "code",
   "execution_count": 55,
   "metadata": {},
   "outputs": [],
   "source": [
    "df_cadastrados_limpo.drop(\"Tem_celular\", axis=1, inplace=True)"
   ]
  },
  {
   "cell_type": "code",
   "execution_count": 56,
   "metadata": {},
   "outputs": [
    {
     "data": {
      "text/plain": [
       "array(['Y', 'N'], dtype=object)"
      ]
     },
     "execution_count": 56,
     "metadata": {},
     "output_type": "execute_result"
    }
   ],
   "source": [
    "df_cadastrados_limpo[\"Tem_carro\"].unique()"
   ]
  },
  {
   "cell_type": "code",
   "execution_count": 57,
   "metadata": {},
   "outputs": [
    {
     "data": {
      "text/plain": [
       "array(['Y', 'N'], dtype=object)"
      ]
     },
     "execution_count": 57,
     "metadata": {},
     "output_type": "execute_result"
    }
   ],
   "source": [
    "df_cadastrados_limpo['Tem_casa_propria'].unique()"
   ]
  },
  {
   "cell_type": "code",
   "execution_count": 58,
   "metadata": {},
   "outputs": [
    {
     "data": {
      "text/plain": [
       "array([1, 0], dtype=int64)"
      ]
     },
     "execution_count": 58,
     "metadata": {},
     "output_type": "execute_result"
    }
   ],
   "source": [
    "df_cadastrados_limpo['Tem_telefone_trabalho'].unique()"
   ]
  },
  {
   "cell_type": "code",
   "execution_count": 59,
   "metadata": {},
   "outputs": [
    {
     "data": {
      "text/plain": [
       "array([0, 1], dtype=int64)"
      ]
     },
     "execution_count": 59,
     "metadata": {},
     "output_type": "execute_result"
    }
   ],
   "source": [
    "df_cadastrados_limpo['Tem_telefone_fixo'].unique()"
   ]
  },
  {
   "cell_type": "code",
   "execution_count": 60,
   "metadata": {},
   "outputs": [
    {
     "data": {
      "text/plain": [
       "array([0, 1], dtype=int64)"
      ]
     },
     "execution_count": 60,
     "metadata": {},
     "output_type": "execute_result"
    }
   ],
   "source": [
    "df_cadastrados_limpo['Tem_email'].unique()"
   ]
  },
  {
   "cell_type": "code",
   "execution_count": 61,
   "metadata": {},
   "outputs": [
    {
     "name": "stdout",
     "output_type": "stream",
     "text": [
      "<class 'pandas.DataFrame'>\n",
      "Index: 438463 entries, 0 to 438556\n",
      "Data columns (total 16 columns):\n",
      " #   Column                 Non-Null Count   Dtype  \n",
      "---  ------                 --------------   -----  \n",
      " 0   ID_Cliente             438463 non-null  int64  \n",
      " 1   Tem_carro              438463 non-null  object \n",
      " 2   Tem_casa_propria       438463 non-null  object \n",
      " 3   Qtd_filhos             438463 non-null  int64  \n",
      " 4   Rendimento_anual       438463 non-null  float64\n",
      " 5   Categoria_de_renda     438463 non-null  object \n",
      " 6   Grau_escolaridade      438463 non-null  object \n",
      " 7   Estado_civil           438463 non-null  object \n",
      " 8   Moradia                438463 non-null  object \n",
      " 9   Idade                  438463 non-null  int64  \n",
      " 10  Anos_empregado         438463 non-null  int64  \n",
      " 11  Tem_telefone_trabalho  438463 non-null  int64  \n",
      " 12  Tem_telefone_fixo      438463 non-null  int64  \n",
      " 13  Tem_email              438463 non-null  int64  \n",
      " 14  Ocupacao               438463 non-null  object \n",
      " 15  Tamanho_familia        438463 non-null  float64\n",
      "dtypes: float64(2), int64(7), object(7)\n",
      "memory usage: 56.9+ MB\n"
     ]
    }
   ],
   "source": [
    "df_cadastrados_limpo.info()"
   ]
  },
  {
   "cell_type": "code",
   "execution_count": null,
   "metadata": {},
   "outputs": [],
   "source": [
    "df_cadastrados_limpo[\"Tem_carro\"] = df_cadastrados_limpo[\"Tem_carro\"].replace([\"Y\",\"N\"], [1,0]) #substituindo o valores Y para 1 e N para 2 da coluna \"tem_carro\""
   ]
  },
  {
   "cell_type": "code",
   "execution_count": 63,
   "metadata": {},
   "outputs": [],
   "source": [
    "df_cadastrados_limpo['Tem_casa_propria'] = df_cadastrados_limpo['Tem_casa_propria'].replace(['Y','N'],[1,0])"
   ]
  },
  {
   "cell_type": "code",
   "execution_count": 65,
   "metadata": {},
   "outputs": [
    {
     "data": {
      "text/html": [
       "<div>\n",
       "<style scoped>\n",
       "    .dataframe tbody tr th:only-of-type {\n",
       "        vertical-align: middle;\n",
       "    }\n",
       "\n",
       "    .dataframe tbody tr th {\n",
       "        vertical-align: top;\n",
       "    }\n",
       "\n",
       "    .dataframe thead th {\n",
       "        text-align: right;\n",
       "    }\n",
       "</style>\n",
       "<table border=\"1\" class=\"dataframe\">\n",
       "  <thead>\n",
       "    <tr style=\"text-align: right;\">\n",
       "      <th></th>\n",
       "      <th>ID_Cliente</th>\n",
       "      <th>Tem_carro</th>\n",
       "      <th>Tem_casa_propria</th>\n",
       "      <th>Qtd_filhos</th>\n",
       "      <th>Rendimento_anual</th>\n",
       "      <th>Categoria_de_renda</th>\n",
       "      <th>Grau_escolaridade</th>\n",
       "      <th>Estado_civil</th>\n",
       "      <th>Moradia</th>\n",
       "      <th>Idade</th>\n",
       "      <th>Anos_empregado</th>\n",
       "      <th>Tem_telefone_trabalho</th>\n",
       "      <th>Tem_telefone_fixo</th>\n",
       "      <th>Tem_email</th>\n",
       "      <th>Ocupacao</th>\n",
       "      <th>Tamanho_familia</th>\n",
       "    </tr>\n",
       "  </thead>\n",
       "  <tbody>\n",
       "    <tr>\n",
       "      <th>0</th>\n",
       "      <td>5008804</td>\n",
       "      <td>1</td>\n",
       "      <td>1</td>\n",
       "      <td>0</td>\n",
       "      <td>427500.0</td>\n",
       "      <td>Empregado</td>\n",
       "      <td>Ensino superior</td>\n",
       "      <td>União-estável</td>\n",
       "      <td>Apartamento alugado</td>\n",
       "      <td>-12005</td>\n",
       "      <td>-4542</td>\n",
       "      <td>1</td>\n",
       "      <td>0</td>\n",
       "      <td>0</td>\n",
       "      <td>Outro</td>\n",
       "      <td>2.0</td>\n",
       "    </tr>\n",
       "    <tr>\n",
       "      <th>1</th>\n",
       "      <td>5008805</td>\n",
       "      <td>1</td>\n",
       "      <td>1</td>\n",
       "      <td>0</td>\n",
       "      <td>427500.0</td>\n",
       "      <td>Empregado</td>\n",
       "      <td>Ensino superior</td>\n",
       "      <td>União-estável</td>\n",
       "      <td>Apartamento alugado</td>\n",
       "      <td>-12005</td>\n",
       "      <td>-4542</td>\n",
       "      <td>1</td>\n",
       "      <td>0</td>\n",
       "      <td>0</td>\n",
       "      <td>Outro</td>\n",
       "      <td>2.0</td>\n",
       "    </tr>\n",
       "    <tr>\n",
       "      <th>2</th>\n",
       "      <td>5008806</td>\n",
       "      <td>1</td>\n",
       "      <td>1</td>\n",
       "      <td>0</td>\n",
       "      <td>112500.0</td>\n",
       "      <td>Empregado</td>\n",
       "      <td>Ensino médio</td>\n",
       "      <td>Casado</td>\n",
       "      <td>Casa/apartamento próprio</td>\n",
       "      <td>-21474</td>\n",
       "      <td>-1134</td>\n",
       "      <td>0</td>\n",
       "      <td>0</td>\n",
       "      <td>0</td>\n",
       "      <td>Segurança</td>\n",
       "      <td>2.0</td>\n",
       "    </tr>\n",
       "    <tr>\n",
       "      <th>3</th>\n",
       "      <td>5008808</td>\n",
       "      <td>0</td>\n",
       "      <td>1</td>\n",
       "      <td>0</td>\n",
       "      <td>270000.0</td>\n",
       "      <td>Associado comercial</td>\n",
       "      <td>Ensino médio</td>\n",
       "      <td>Solteiro</td>\n",
       "      <td>Casa/apartamento próprio</td>\n",
       "      <td>-19110</td>\n",
       "      <td>-3051</td>\n",
       "      <td>0</td>\n",
       "      <td>1</td>\n",
       "      <td>1</td>\n",
       "      <td>Vendas</td>\n",
       "      <td>1.0</td>\n",
       "    </tr>\n",
       "    <tr>\n",
       "      <th>4</th>\n",
       "      <td>5008809</td>\n",
       "      <td>0</td>\n",
       "      <td>1</td>\n",
       "      <td>0</td>\n",
       "      <td>270000.0</td>\n",
       "      <td>Associado comercial</td>\n",
       "      <td>Ensino médio</td>\n",
       "      <td>Solteiro</td>\n",
       "      <td>Casa/apartamento próprio</td>\n",
       "      <td>-19110</td>\n",
       "      <td>-3051</td>\n",
       "      <td>0</td>\n",
       "      <td>1</td>\n",
       "      <td>1</td>\n",
       "      <td>Vendas</td>\n",
       "      <td>1.0</td>\n",
       "    </tr>\n",
       "  </tbody>\n",
       "</table>\n",
       "</div>"
      ],
      "text/plain": [
       "   ID_Cliente Tem_carro Tem_casa_propria  Qtd_filhos  Rendimento_anual  \\\n",
       "0     5008804         1                1           0          427500.0   \n",
       "1     5008805         1                1           0          427500.0   \n",
       "2     5008806         1                1           0          112500.0   \n",
       "3     5008808         0                1           0          270000.0   \n",
       "4     5008809         0                1           0          270000.0   \n",
       "\n",
       "    Categoria_de_renda Grau_escolaridade   Estado_civil  \\\n",
       "0            Empregado   Ensino superior  União-estável   \n",
       "1            Empregado   Ensino superior  União-estável   \n",
       "2            Empregado      Ensino médio         Casado   \n",
       "3  Associado comercial      Ensino médio       Solteiro   \n",
       "4  Associado comercial      Ensino médio       Solteiro   \n",
       "\n",
       "                    Moradia  Idade  Anos_empregado  Tem_telefone_trabalho  \\\n",
       "0       Apartamento alugado -12005           -4542                      1   \n",
       "1       Apartamento alugado -12005           -4542                      1   \n",
       "2  Casa/apartamento próprio -21474           -1134                      0   \n",
       "3  Casa/apartamento próprio -19110           -3051                      0   \n",
       "4  Casa/apartamento próprio -19110           -3051                      0   \n",
       "\n",
       "   Tem_telefone_fixo  Tem_email   Ocupacao  Tamanho_familia  \n",
       "0                  0          0      Outro              2.0  \n",
       "1                  0          0      Outro              2.0  \n",
       "2                  0          0  Segurança              2.0  \n",
       "3                  1          1     Vendas              1.0  \n",
       "4                  1          1     Vendas              1.0  "
      ]
     },
     "execution_count": 65,
     "metadata": {},
     "output_type": "execute_result"
    }
   ],
   "source": [
    "df_cadastrados_limpo.head()"
   ]
  },
  {
   "cell_type": "code",
   "execution_count": 66,
   "metadata": {},
   "outputs": [],
   "source": [
    "df_cadastrados_limpo[\"Idade\"] = - df_cadastrados_limpo[\"Idade\"] / 365.2425 #a idade está em contagem regressivo, por isso estamos dividindo pela qiantaidade de dias"
   ]
  },
  {
   "cell_type": "code",
   "execution_count": 67,
   "metadata": {},
   "outputs": [],
   "source": [
    "df_cadastrados_limpo['Anos_empregado']=-df_cadastrados_limpo['Anos_empregado']/365.2425"
   ]
  },
  {
   "cell_type": "code",
   "execution_count": 68,
   "metadata": {},
   "outputs": [
    {
     "data": {
      "text/html": [
       "<div>\n",
       "<style scoped>\n",
       "    .dataframe tbody tr th:only-of-type {\n",
       "        vertical-align: middle;\n",
       "    }\n",
       "\n",
       "    .dataframe tbody tr th {\n",
       "        vertical-align: top;\n",
       "    }\n",
       "\n",
       "    .dataframe thead th {\n",
       "        text-align: right;\n",
       "    }\n",
       "</style>\n",
       "<table border=\"1\" class=\"dataframe\">\n",
       "  <thead>\n",
       "    <tr style=\"text-align: right;\">\n",
       "      <th></th>\n",
       "      <th>ID_Cliente</th>\n",
       "      <th>Tem_carro</th>\n",
       "      <th>Tem_casa_propria</th>\n",
       "      <th>Qtd_filhos</th>\n",
       "      <th>Rendimento_anual</th>\n",
       "      <th>Categoria_de_renda</th>\n",
       "      <th>Grau_escolaridade</th>\n",
       "      <th>Estado_civil</th>\n",
       "      <th>Moradia</th>\n",
       "      <th>Idade</th>\n",
       "      <th>Anos_empregado</th>\n",
       "      <th>Tem_telefone_trabalho</th>\n",
       "      <th>Tem_telefone_fixo</th>\n",
       "      <th>Tem_email</th>\n",
       "      <th>Ocupacao</th>\n",
       "      <th>Tamanho_familia</th>\n",
       "    </tr>\n",
       "  </thead>\n",
       "  <tbody>\n",
       "    <tr>\n",
       "      <th>0</th>\n",
       "      <td>5008804</td>\n",
       "      <td>1</td>\n",
       "      <td>1</td>\n",
       "      <td>0</td>\n",
       "      <td>427500.0</td>\n",
       "      <td>Empregado</td>\n",
       "      <td>Ensino superior</td>\n",
       "      <td>União-estável</td>\n",
       "      <td>Apartamento alugado</td>\n",
       "      <td>32.868574</td>\n",
       "      <td>12.435574</td>\n",
       "      <td>1</td>\n",
       "      <td>0</td>\n",
       "      <td>0</td>\n",
       "      <td>Outro</td>\n",
       "      <td>2.0</td>\n",
       "    </tr>\n",
       "    <tr>\n",
       "      <th>1</th>\n",
       "      <td>5008805</td>\n",
       "      <td>1</td>\n",
       "      <td>1</td>\n",
       "      <td>0</td>\n",
       "      <td>427500.0</td>\n",
       "      <td>Empregado</td>\n",
       "      <td>Ensino superior</td>\n",
       "      <td>União-estável</td>\n",
       "      <td>Apartamento alugado</td>\n",
       "      <td>32.868574</td>\n",
       "      <td>12.435574</td>\n",
       "      <td>1</td>\n",
       "      <td>0</td>\n",
       "      <td>0</td>\n",
       "      <td>Outro</td>\n",
       "      <td>2.0</td>\n",
       "    </tr>\n",
       "    <tr>\n",
       "      <th>2</th>\n",
       "      <td>5008806</td>\n",
       "      <td>1</td>\n",
       "      <td>1</td>\n",
       "      <td>0</td>\n",
       "      <td>112500.0</td>\n",
       "      <td>Empregado</td>\n",
       "      <td>Ensino médio</td>\n",
       "      <td>Casado</td>\n",
       "      <td>Casa/apartamento próprio</td>\n",
       "      <td>58.793815</td>\n",
       "      <td>3.104787</td>\n",
       "      <td>0</td>\n",
       "      <td>0</td>\n",
       "      <td>0</td>\n",
       "      <td>Segurança</td>\n",
       "      <td>2.0</td>\n",
       "    </tr>\n",
       "    <tr>\n",
       "      <th>3</th>\n",
       "      <td>5008808</td>\n",
       "      <td>0</td>\n",
       "      <td>1</td>\n",
       "      <td>0</td>\n",
       "      <td>270000.0</td>\n",
       "      <td>Associado comercial</td>\n",
       "      <td>Ensino médio</td>\n",
       "      <td>Solteiro</td>\n",
       "      <td>Casa/apartamento próprio</td>\n",
       "      <td>52.321403</td>\n",
       "      <td>8.353354</td>\n",
       "      <td>0</td>\n",
       "      <td>1</td>\n",
       "      <td>1</td>\n",
       "      <td>Vendas</td>\n",
       "      <td>1.0</td>\n",
       "    </tr>\n",
       "    <tr>\n",
       "      <th>4</th>\n",
       "      <td>5008809</td>\n",
       "      <td>0</td>\n",
       "      <td>1</td>\n",
       "      <td>0</td>\n",
       "      <td>270000.0</td>\n",
       "      <td>Associado comercial</td>\n",
       "      <td>Ensino médio</td>\n",
       "      <td>Solteiro</td>\n",
       "      <td>Casa/apartamento próprio</td>\n",
       "      <td>52.321403</td>\n",
       "      <td>8.353354</td>\n",
       "      <td>0</td>\n",
       "      <td>1</td>\n",
       "      <td>1</td>\n",
       "      <td>Vendas</td>\n",
       "      <td>1.0</td>\n",
       "    </tr>\n",
       "  </tbody>\n",
       "</table>\n",
       "</div>"
      ],
      "text/plain": [
       "   ID_Cliente Tem_carro Tem_casa_propria  Qtd_filhos  Rendimento_anual  \\\n",
       "0     5008804         1                1           0          427500.0   \n",
       "1     5008805         1                1           0          427500.0   \n",
       "2     5008806         1                1           0          112500.0   \n",
       "3     5008808         0                1           0          270000.0   \n",
       "4     5008809         0                1           0          270000.0   \n",
       "\n",
       "    Categoria_de_renda Grau_escolaridade   Estado_civil  \\\n",
       "0            Empregado   Ensino superior  União-estável   \n",
       "1            Empregado   Ensino superior  União-estável   \n",
       "2            Empregado      Ensino médio         Casado   \n",
       "3  Associado comercial      Ensino médio       Solteiro   \n",
       "4  Associado comercial      Ensino médio       Solteiro   \n",
       "\n",
       "                    Moradia      Idade  Anos_empregado  Tem_telefone_trabalho  \\\n",
       "0       Apartamento alugado  32.868574       12.435574                      1   \n",
       "1       Apartamento alugado  32.868574       12.435574                      1   \n",
       "2  Casa/apartamento próprio  58.793815        3.104787                      0   \n",
       "3  Casa/apartamento próprio  52.321403        8.353354                      0   \n",
       "4  Casa/apartamento próprio  52.321403        8.353354                      0   \n",
       "\n",
       "   Tem_telefone_fixo  Tem_email   Ocupacao  Tamanho_familia  \n",
       "0                  0          0      Outro              2.0  \n",
       "1                  0          0      Outro              2.0  \n",
       "2                  0          0  Segurança              2.0  \n",
       "3                  1          1     Vendas              1.0  \n",
       "4                  1          1     Vendas              1.0  "
      ]
     },
     "execution_count": 68,
     "metadata": {},
     "output_type": "execute_result"
    }
   ],
   "source": [
    "df_cadastrados_limpo.head()"
   ]
  },
  {
   "cell_type": "code",
   "execution_count": null,
   "metadata": {},
   "outputs": [],
   "source": [
    "df_cadastrados_limpo.loc[df_cadastrados_limpo['Anos_empregado']<0,'Anos_empregado']=0  #se for menos que zero, colocar 0 h"
   ]
  },
  {
   "cell_type": "code",
   "execution_count": null,
   "metadata": {},
   "outputs": [],
   "source": []
  }
 ],
 "metadata": {
  "kernelspec": {
   "display_name": "Python 3",
   "language": "python",
   "name": "python3"
  },
  "language_info": {
   "codemirror_mode": {
    "name": "ipython",
    "version": 3
   },
   "file_extension": ".py",
   "mimetype": "text/x-python",
   "name": "python",
   "nbconvert_exporter": "python",
   "pygments_lexer": "ipython3",
   "version": "3.12.0"
  }
 },
 "nbformat": 4,
 "nbformat_minor": 2
}
